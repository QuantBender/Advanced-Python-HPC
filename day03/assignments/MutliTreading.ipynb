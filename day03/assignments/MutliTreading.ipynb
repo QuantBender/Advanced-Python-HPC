{
 "cells": [
  {
   "cell_type": "markdown",
   "id": "1d57264a",
   "metadata": {},
   "source": [
    "## 1. Simple Thread Creation\n",
    "\n",
    "Create a simple program that uses threading to print numbers from 1 to 5 in two separate threads."
   ]
  },
  {
   "cell_type": "code",
   "execution_count": 34,
   "id": "0fb3360f",
   "metadata": {},
   "outputs": [],
   "source": [
    "# your code here\n",
    "import logging\n",
    "import threading\n",
    "from threading import current_thread\n",
    "import time\n",
    "import concurrent.futures"
   ]
  },
  {
   "cell_type": "code",
   "execution_count": 13,
   "metadata": {},
   "outputs": [
    {
     "name": "stdout",
     "output_type": "stream",
     "text": [
      "1\n",
      "2\n",
      "3\n",
      "4\n",
      "5\n",
      "5\n"
     ]
    }
   ],
   "source": [
    "# Create two threads\n",
    "\n",
    "digit = 1\n",
    "\n",
    "def thread1_print():\n",
    "    global digit\n",
    "\n",
    "    while digit < 6:\n",
    "        \n",
    "        print(str(digit))\n",
    "\n",
    "        digit += 1\n",
    "\n",
    "def thread2_print():\n",
    "    global digit\n",
    "\n",
    "    while digit < 6:\n",
    "        \n",
    "        print(str(digit))\n",
    "\n",
    "        digit += 1\n",
    "\n",
    "thread1 = threading.Thread(target=thread1_print)\n",
    "thread2 = threading.Thread(target=thread2_print)\n",
    "\n",
    "# Start the threads\n",
    "thread1.start()\n",
    "thread2.start()\n",
    "\n",
    "# Wait for both threads to finish\n",
    "thread1.join()\n",
    "thread2.join()"
   ]
  },
  {
   "cell_type": "markdown",
   "id": "a8d8ab14",
   "metadata": {},
   "source": [
    "## 2. Thread Synchronization\n",
    "\n",
    "Modify the program from Exercise 1 to use locks to synchronize the two threads and ensure that they print numbers alternately."
   ]
  },
  {
   "cell_type": "code",
   "execution_count": 26,
   "id": "c3dbaf9d",
   "metadata": {},
   "outputs": [
    {
     "name": "stdout",
     "output_type": "stream",
     "text": [
      "thread1: 1\n",
      "thread2: 2\n",
      "thread1: 3\n",
      "thread2: 4\n",
      "thread1: 5\n"
     ]
    }
   ],
   "source": [
    "# Create two threads\n",
    "\n",
    "lock = threading.Lock()\n",
    "digit = 1\n",
    "owner = \"thread1\"\n",
    "\n",
    "def thread1_print():\n",
    "    global digit, owner\n",
    "\n",
    "    while digit < 6:\n",
    "        \n",
    "        lock.acquire()\n",
    "        if owner == \"thread1\" and digit < 6:\n",
    "            print(f\"{owner}: {str(digit)}\")\n",
    "            owner = \"thread2\"\n",
    "            digit += 1\n",
    "        lock.release()\n",
    "\n",
    "def thread2_print():\n",
    "    global digit, owner\n",
    "\n",
    "    while digit < 6:\n",
    "        \n",
    "        lock.acquire()\n",
    "        if owner == \"thread2\" and digit < 6:\n",
    "            print(f\"{owner}: {str(digit)}\")\n",
    "            owner = \"thread1\"\n",
    "            digit += 1\n",
    "        lock.release()\n",
    "\n",
    "thread1 = threading.Thread(target=thread1_print)\n",
    "thread2 = threading.Thread(target=thread2_print)\n",
    "\n",
    "# Start the threads\n",
    "thread1.start()\n",
    "thread2.start()\n",
    "\n",
    "# Wait for both threads to finish\n",
    "thread1.join()\n",
    "thread2.join()"
   ]
  },
  {
   "cell_type": "markdown",
   "id": "8d45fee2",
   "metadata": {},
   "source": [
    "## 3. Thread Pooling\n",
    "\n",
    "Use the `concurrent.futures.ThreadPoolExecutor` module to create a thread pool and parallelize a task (e.g., calculating the square of numbers) among multiple threads.\n",
    "\n",
    "```python\n",
    "numbers = [1, 2, 3, 4, 5]\n",
    "```"
   ]
  },
  {
   "cell_type": "code",
   "execution_count": 19,
   "id": "0379e5e9",
   "metadata": {},
   "outputs": [
    {
     "name": "stdout",
     "output_type": "stream",
     "text": [
      "0\n",
      "1\n",
      "4\n",
      "9\n",
      "16\n",
      "25\n",
      "36\n",
      "49\n",
      "64\n",
      "81\n"
     ]
    }
   ],
   "source": [
    "# your code here\n",
    "def square_numbers(number):\n",
    "    return number**2\n",
    "\n",
    "with concurrent.futures.ThreadPoolExecutor(max_workers=8) as executor:\n",
    "        for squared_number in executor.map(square_numbers, range(10)):\n",
    "              print(squared_number)"
   ]
  },
  {
   "cell_type": "markdown",
   "id": "aacf816a",
   "metadata": {},
   "source": [
    "## 4. Thread with Function Arguments\n",
    "\n",
    "```python\n",
    "\n",
    "import threading\n",
    "import time\n",
    "\n",
    "def print_hello():\n",
    "    for _ in range(5):\n",
    "        print(\"Hello, \", end='')\n",
    "        time.sleep(0.1)\n",
    "\n",
    "def print_world():\n",
    "    for _ in range(5):\n",
    "        print(\"World!\")\n",
    "        time.sleep(0.1)\n",
    "\n",
    "# Create two threads\n",
    "thread1 = threading.Thread(target=print_hello)\n",
    "thread2 = threading.Thread(target=print_world)\n",
    "\n",
    "# Start the threads\n",
    "thread1.start()\n",
    "thread2.start()\n",
    "\n",
    "# Wait for both threads to finish\n",
    "thread1.join()\n",
    "thread2.join()\n",
    "```\n",
    "\n",
    "Modify this program to pass an argument to the threads and print the thread's name along with the message."
   ]
  },
  {
   "cell_type": "code",
   "execution_count": 39,
   "id": "d7fd05ee",
   "metadata": {},
   "outputs": [
    {
     "name": "stdout",
     "output_type": "stream",
     "text": [
      "<Thread(Thread-81 (print_hello), started 140281259308608)>:\n",
      " Hello,\n",
      " <Thread(Thread-82 (print_world), started 140281234130496)>:\n",
      " World!\n",
      "<Thread(Thread-81 (print_hello), started 140281259308608)>:\n",
      " Hello,\n",
      " <Thread(Thread-82 (print_world), started 140281234130496)>:\n",
      " World!\n",
      "<Thread(Thread-81 (print_hello), started 140281259308608)>:\n",
      " Hello,\n",
      " <Thread(Thread-82 (print_world), started 140281234130496)>:\n",
      " World!\n",
      "<Thread(Thread-81 (print_hello), started 140281259308608)>:\n",
      " Hello,\n",
      " <Thread(Thread-82 (print_world), started 140281234130496)>:\n",
      " World!\n",
      "<Thread(Thread-81 (print_hello), started 140281259308608)>:\n",
      " Hello,\n",
      " <Thread(Thread-82 (print_world), started 140281234130496)>:\n",
      " World!\n"
     ]
    }
   ],
   "source": [
    "#your code here\n",
    "def print_hello():\n",
    "    for _ in range(5):\n",
    "        print(f\"{current_thread()}:\\n Hello,\\n \", end='')\n",
    "        time.sleep(0.1)\n",
    "\n",
    "def print_world():\n",
    "    for _ in range(5):\n",
    "        print(f\"{current_thread()}:\\n World!\")\n",
    "        time.sleep(0.1)\n",
    "\n",
    "# Create two threads\n",
    "thread1 = threading.Thread(target=print_hello)\n",
    "thread2 = threading.Thread(target=print_world)\n",
    "\n",
    "# Start the threads\n",
    "thread1.start()\n",
    "thread2.start()\n",
    "\n",
    "# Wait for both threads to finish\n",
    "thread1.join()\n",
    "thread2.join()\n"
   ]
  },
  {
   "cell_type": "code",
   "execution_count": 28,
   "metadata": {},
   "outputs": [
    {
     "name": "stderr",
     "output_type": "stream",
     "text": [
      "/tmp/ipykernel_351183/2218213658.py:1: DeprecationWarning: getName() is deprecated, get the name attribute instead\n",
      "  thread1.getName()\n"
     ]
    },
    {
     "data": {
      "text/plain": [
       "'Thread-61 (thread1_print)'"
      ]
     },
     "execution_count": 28,
     "metadata": {},
     "output_type": "execute_result"
    }
   ],
   "source": [
    "thread1.getName()"
   ]
  },
  {
   "cell_type": "code",
   "execution_count": null,
   "metadata": {},
   "outputs": [],
   "source": []
  }
 ],
 "metadata": {
  "kernelspec": {
   "display_name": "Python 3",
   "language": "python",
   "name": "python3"
  },
  "language_info": {
   "codemirror_mode": {
    "name": "ipython",
    "version": 3
   },
   "file_extension": ".py",
   "mimetype": "text/x-python",
   "name": "python",
   "nbconvert_exporter": "python",
   "pygments_lexer": "ipython3",
   "version": "3.10.12"
  }
 },
 "nbformat": 4,
 "nbformat_minor": 5
}
